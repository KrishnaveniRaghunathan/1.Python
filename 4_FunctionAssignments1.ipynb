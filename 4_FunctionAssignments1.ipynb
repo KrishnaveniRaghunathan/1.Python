{
  "nbformat": 4,
  "nbformat_minor": 0,
  "metadata": {
    "colab": {
      "provenance": []
    },
    "kernelspec": {
      "name": "python3",
      "display_name": "Python 3"
    },
    "language_info": {
      "name": "python"
    }
  },
  "cells": [
    {
      "cell_type": "code",
      "execution_count": null,
      "metadata": {
        "id": "o8lu2w8v2Jsx"
      },
      "outputs": [],
      "source": [
        "# Create Function"
      ]
    },
    {
      "cell_type": "code",
      "source": [
        "def Subfields():\n",
        "  AI_Sub_Fields = \"\"\"Sub-fields in AI are:\n",
        "  Machine Learning\n",
        "  Neural Networks\n",
        "  Vision\n",
        "  Robotics\n",
        "  Speech Processing\n",
        "  Natural Language Processing\"\"\"\n",
        "  print(AI_Sub_Fields)\n",
        " # return AI_Sub_Fields"
      ],
      "metadata": {
        "id": "k3kk2DqY6e41"
      },
      "execution_count": 4,
      "outputs": []
    },
    {
      "cell_type": "code",
      "source": [
        "Subfields()"
      ],
      "metadata": {
        "colab": {
          "base_uri": "https://localhost:8080/"
        },
        "id": "0TB5BMuApCNU",
        "outputId": "76eaa2f3-d712-4348-efe1-a52480952148"
      },
      "execution_count": 5,
      "outputs": [
        {
          "output_type": "stream",
          "name": "stdout",
          "text": [
            "Sub-fields in AI are:\n",
            "  Machine Learning\n",
            "  Neural Networks\n",
            "  Vision\n",
            "  Robotics\n",
            "  Speech Processing\n",
            "  Natural Language Processing\n"
          ]
        }
      ]
    },
    {
      "cell_type": "code",
      "source": [
        "# Create Function"
      ],
      "metadata": {
        "id": "9G4P9XUJqbpR"
      },
      "execution_count": null,
      "outputs": []
    },
    {
      "cell_type": "code",
      "source": [
        "def oddEven():\n",
        "  num = int(input(\"Enter a number: \"))\n",
        "  if(num%2==0):\n",
        "    prn = \"%d is Even Number\" % (num)\n",
        "  else:\n",
        "    prn = \"%d is Odd Number\" % (num)\n",
        "  return prn"
      ],
      "metadata": {
        "id": "3VsaTsu-qgYZ"
      },
      "execution_count": 7,
      "outputs": []
    },
    {
      "cell_type": "code",
      "source": [
        "#oddEven()\n",
        "dis = oddEven()\n",
        "print(dis)"
      ],
      "metadata": {
        "colab": {
          "base_uri": "https://localhost:8080/"
        },
        "id": "6C_9kje9rSRw",
        "outputId": "5dd79fc1-de25-4d2f-b6cf-62bd06d9eb64"
      },
      "execution_count": 12,
      "outputs": [
        {
          "output_type": "stream",
          "name": "stdout",
          "text": [
            "Enter a number: 4\n",
            "4 is Even Number\n"
          ]
        }
      ]
    },
    {
      "cell_type": "code",
      "source": [
        "# Create Function"
      ],
      "metadata": {
        "id": "JzV8X0l1oghk"
      },
      "execution_count": null,
      "outputs": []
    },
    {
      "cell_type": "code",
      "source": [
        "def Elegible():\n",
        "  Gen = input(\"Enter Your Gender: \")\n",
        "  Age = int(input(\"Enter Your Age: \"))\n",
        "  print(\"Your Gender: \",Gen)\n",
        "  print(\"Your Age: \",Age)\n",
        "  if(Gen.upper()=='MALE'):\n",
        "    if(Age>=26):\n",
        "      print(\"ELIGIBLE FOR MARRIAGE\")\n",
        "    else:\n",
        "      print(\"NOT ELIGIBLE FOR MARRIAGE\")\n",
        "  elif(Gen.upper()=='FEMALE'):\n",
        "    if(Age>=21):\n",
        "      print(\"ELIGIBLE FOR MARRIAGE\")\n",
        "    else:\n",
        "      print(\"NOT ELIGIBLE FOR MARRIAGE\")\n",
        "  else:\n",
        "    print(\"Enter Either Male or Female\")\n",
        "  #return 1\n",
        "\n"
      ],
      "metadata": {
        "id": "cBX81sSooii6"
      },
      "execution_count": 24,
      "outputs": []
    },
    {
      "cell_type": "code",
      "source": [
        "Elegible()"
      ],
      "metadata": {
        "colab": {
          "base_uri": "https://localhost:8080/"
        },
        "id": "wwL4ShyCrKG_",
        "outputId": "bff026fe-6d3c-48d4-f2f1-b33049f4d30f"
      },
      "execution_count": 25,
      "outputs": [
        {
          "output_type": "stream",
          "name": "stdout",
          "text": [
            "Enter Your Gender: Male\n",
            "Enter Your Age: 18\n",
            "Your Gender:  Male\n",
            "Your Age:  18\n",
            "NOT ELIGIBLE FOR MARRIAGE\n"
          ]
        }
      ]
    },
    {
      "cell_type": "code",
      "source": [
        "# Create Function"
      ],
      "metadata": {
        "id": "nOTkYwIqsEls"
      },
      "execution_count": null,
      "outputs": []
    },
    {
      "cell_type": "code",
      "source": [
        "def percentage():\n",
        "  S1 = int(input(\"Please Enter Subject1 Mark: \"))\n",
        "  S2 = int(input(\"Please Enter Subject2 Mark: \"))\n",
        "  S3 = int(input(\"Please Enter Subject3 Mark: \"))\n",
        "  S4 = int(input(\"Please Enter Subject4 Mark: \"))\n",
        "  S5 = int(input(\"Please Enter Subject5 Mark: \"))\n",
        "  tot = S1+S2+S3+S4+S5\n",
        "  per = (S1+S2+S3+S4+S5)/5\n",
        "  #perd = print('%.2f' % a) print(\"{0:.3f}\".format(a))\n",
        "  print(\"Subject1   = \",S1)\n",
        "  print(\"Subject2   = \",S2)\n",
        "  print(\"Subject3   = \",S3)\n",
        "  print(\"Subject4   = \",S4)\n",
        "  print(\"Subject5   = \",S5)\n",
        "  print(\"Total      = \",tot)\n",
        "  print(\"Percentage = \",'%.15f'%per)"
      ],
      "metadata": {
        "id": "S26mEXkDsG6d"
      },
      "execution_count": 42,
      "outputs": []
    },
    {
      "cell_type": "code",
      "source": [
        "percentage()"
      ],
      "metadata": {
        "colab": {
          "base_uri": "https://localhost:8080/"
        },
        "id": "M4w3-FsBrMuC",
        "outputId": "f05b4ec7-7d3c-4dda-ccb0-1a2954b7f753"
      },
      "execution_count": 43,
      "outputs": [
        {
          "output_type": "stream",
          "name": "stdout",
          "text": [
            "Please Enter Subject1 Mark: 23\n",
            "Please Enter Subject2 Mark: 45\n",
            "Please Enter Subject3 Mark: 34\n",
            "Please Enter Subject4 Mark: 23\n",
            "Please Enter Subject5 Mark: 23\n",
            "Subject1   =  23\n",
            "Subject2   =  45\n",
            "Subject3   =  34\n",
            "Subject4   =  23\n",
            "Subject5   =  23\n",
            "Total      =  148\n",
            "Percentage =  29.600000000000001\n"
          ]
        }
      ]
    },
    {
      "cell_type": "code",
      "source": [
        "# Create Function\n"
      ],
      "metadata": {
        "id": "qY_odZq2v3tt"
      },
      "execution_count": null,
      "outputs": []
    },
    {
      "cell_type": "code",
      "source": [
        "def triangle():\n",
        "  Height = int(input(\"Enter Height Value: \"))\n",
        "  Breadth = int(input(\"Enter Breadth Value: \"))\n",
        "  AreaFormula = \"Area Formula : (Height*Breadth)/2\"\n",
        "  print(\"Height : \",Height)\n",
        "  print(\"Breadth : \",Breadth)\n",
        "  print(AreaFormula)\n",
        "  print(\"Area of Triangle: \",(Height*Breadth)/2)\n",
        "  Height1 = int(input(\"Enter Height1 Value: \"))\n",
        "  Height2 = int(input(\"Enter Height2 Value: \"))\n",
        "  Breadth = int(input(\"Enter Breadth Value: \"))\n",
        "  print(\"Perimeter Formula : Height1 + Height2 + Breadth\")\n",
        "  TPerimeter = Height1 + Height2 + Breadth\n",
        "  print(\"Perimeter of Triangle: \",TPerimeter)\n"
      ],
      "metadata": {
        "id": "OTPch16bv5uF"
      },
      "execution_count": 44,
      "outputs": []
    },
    {
      "cell_type": "code",
      "source": [
        "triangle()"
      ],
      "metadata": {
        "colab": {
          "base_uri": "https://localhost:8080/"
        },
        "id": "Kv4gLSFRyM4C",
        "outputId": "323a3340-1721-4c96-d9ee-61a044e00332"
      },
      "execution_count": 46,
      "outputs": [
        {
          "output_type": "stream",
          "name": "stdout",
          "text": [
            "Enter Height Value: 3\n",
            "Enter Breadth Value: 4\n",
            "Height :  3\n",
            "Breadth :  4\n",
            "Area Formula : (Height*Breadth)/2\n",
            "Area of Triangle:  6.0\n",
            "Enter Height1 Value: 3\n",
            "Enter Height2 Value: 4\n",
            "Enter Breadth Value: 45\n",
            "Perimeter Formula : Height1 + Height2 + Breadth\n",
            "Perimeter of Triangle:  52\n"
          ]
        }
      ]
    },
    {
      "cell_type": "code",
      "source": [],
      "metadata": {
        "id": "MXPfqLg0yOPL"
      },
      "execution_count": null,
      "outputs": []
    }
  ]
}