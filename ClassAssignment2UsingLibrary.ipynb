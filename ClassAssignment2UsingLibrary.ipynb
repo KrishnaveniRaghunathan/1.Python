{
  "nbformat": 4,
  "nbformat_minor": 0,
  "metadata": {
    "colab": {
      "provenance": []
    },
    "kernelspec": {
      "name": "python3",
      "display_name": "Python 3"
    },
    "language_info": {
      "name": "python"
    }
  },
  "cells": [
    {
      "cell_type": "code",
      "execution_count": 2,
      "metadata": {
        "id": "UFaSv_c_tot4"
      },
      "outputs": [],
      "source": [
        "from MyFirstLibrary import multipleFunctions"
      ]
    },
    {
      "cell_type": "code",
      "source": [
        "multipleFunctions.oddEven()"
      ],
      "metadata": {
        "colab": {
          "base_uri": "https://localhost:8080/",
          "height": 53
        },
        "id": "5Pt9g-KbvAd2",
        "outputId": "58b1ce03-e2bd-4ca4-ce9d-e7215136b192"
      },
      "execution_count": 3,
      "outputs": [
        {
          "name": "stdout",
          "output_type": "stream",
          "text": [
            "Enter a number: 245\n"
          ]
        },
        {
          "output_type": "execute_result",
          "data": {
            "text/plain": [
              "'245 is Odd Number'"
            ],
            "application/vnd.google.colaboratory.intrinsic+json": {
              "type": "string"
            }
          },
          "metadata": {},
          "execution_count": 3
        }
      ]
    },
    {
      "cell_type": "code",
      "source": [
        "multipleFunctions.Elegible()\n"
      ],
      "metadata": {
        "colab": {
          "base_uri": "https://localhost:8080/"
        },
        "id": "VbM_LQrhvOa2",
        "outputId": "21dc1474-3d11-428d-932d-feeaa4ef3d50"
      },
      "execution_count": 4,
      "outputs": [
        {
          "output_type": "stream",
          "name": "stdout",
          "text": [
            "Enter Your Gender: Female\n",
            "Enter Your Age: 23\n",
            "Your Gender:  Female\n",
            "Your Age:  23\n",
            "ELIGIBLE FOR MARRIAGE\n"
          ]
        }
      ]
    },
    {
      "cell_type": "code",
      "source": [
        "multipleFunctions.Subfields()"
      ],
      "metadata": {
        "colab": {
          "base_uri": "https://localhost:8080/"
        },
        "id": "FNByjmT5vbCf",
        "outputId": "8fe40ad3-6ae7-44a1-a127-f115bd0cbce0"
      },
      "execution_count": 5,
      "outputs": [
        {
          "output_type": "stream",
          "name": "stdout",
          "text": [
            "Sub-fields in AI are:\n",
            "    Machine Learning\n",
            "    Neural Networks\n",
            "    Vision\n",
            "    Robotics\n",
            "    Speech Processing\n",
            "    Natural Language Processing\n"
          ]
        }
      ]
    },
    {
      "cell_type": "code",
      "source": [
        "multipleFunctions.percentage()\n"
      ],
      "metadata": {
        "colab": {
          "base_uri": "https://localhost:8080/"
        },
        "id": "yu3K_Pw-vhTH",
        "outputId": "fb624324-4c8a-41a2-b1a3-27629e391126"
      },
      "execution_count": 6,
      "outputs": [
        {
          "output_type": "stream",
          "name": "stdout",
          "text": [
            "Please Enter Subject1 Mark: 45\n",
            "Please Enter Subject2 Mark: 67\n",
            "Please Enter Subject3 Mark: 78\n",
            "Please Enter Subject4 Mark: 54\n",
            "Please Enter Subject5 Mark: 90\n",
            "Subject1   =  45\n",
            "Subject2   =  67\n",
            "Subject3   =  78\n",
            "Subject4   =  54\n",
            "Subject5   =  90\n",
            "Total      =  334\n",
            "Percentage =  66.799999999999997\n"
          ]
        }
      ]
    },
    {
      "cell_type": "code",
      "source": [
        "multipleFunctions.triangle()"
      ],
      "metadata": {
        "colab": {
          "base_uri": "https://localhost:8080/"
        },
        "id": "zC85m-01vtKz",
        "outputId": "19ffc612-5dd9-4fc4-9e8e-1af95aef8b9d"
      },
      "execution_count": 7,
      "outputs": [
        {
          "output_type": "stream",
          "name": "stdout",
          "text": [
            "Enter Height Value: 23\n",
            "Enter Breadth Value: 34\n",
            "Height :  23\n",
            "Breadth :  34\n",
            "Area Formula : (Height*Breadth)/2\n",
            "Area of Triangle:  391.0\n",
            "Enter Height1 Value: 23\n",
            "Enter Height2 Value: 23\n",
            "Enter Breadth Value: 12\n",
            "Perimeter Formula : Height1 + Height2 + Breadth\n",
            "Perimeter of Triangle:  58\n"
          ]
        }
      ]
    }
  ]
}