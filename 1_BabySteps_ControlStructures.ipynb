{
  "nbformat": 4,
  "nbformat_minor": 0,
  "metadata": {
    "colab": {
      "provenance": []
    },
    "kernelspec": {
      "name": "python3",
      "display_name": "Python 3"
    },
    "language_info": {
      "name": "python"
    }
  },
  "cells": [
    {
      "cell_type": "code",
      "execution_count": null,
      "metadata": {
        "colab": {
          "base_uri": "https://localhost:8080/"
        },
        "id": "ZJrdS_P3n1xR",
        "outputId": "a78f675b-6197-4b70-fdd9-bea880f3aaef"
      },
      "outputs": [
        {
          "output_type": "stream",
          "name": "stdout",
          "text": [
            "Welcome to Assignment-1\n"
          ]
        }
      ],
      "source": [
        "print('Welcome to Assignment-1')"
      ]
    },
    {
      "cell_type": "code",
      "source": [],
      "metadata": {
        "id": "fs3CRtXdodQN"
      },
      "execution_count": null,
      "outputs": []
    },
    {
      "cell_type": "code",
      "source": [
        "Num1 = 10\n",
        "Num2 = 30\n",
        "print(\"Num1=\",Num1)\n",
        "print(\"Num2=\",Num2)\n",
        "print(\"Add=\",Num1+Num2)"
      ],
      "metadata": {
        "colab": {
          "base_uri": "https://localhost:8080/"
        },
        "id": "2Vo96ro3od3f",
        "outputId": "f7f8f43a-30b9-4b04-e2dd-8f02fd3c8ba9"
      },
      "execution_count": null,
      "outputs": [
        {
          "output_type": "stream",
          "name": "stdout",
          "text": [
            "Num1= 10\n",
            "Num2= 30\n",
            "Add= 40\n"
          ]
        }
      ]
    },
    {
      "cell_type": "code",
      "source": [
        "#Body Mass Index"
      ],
      "metadata": {
        "id": "2xF14SDMpWYB"
      },
      "execution_count": null,
      "outputs": []
    },
    {
      "cell_type": "code",
      "source": [
        "BMI_Idx = int(input(\"Enter the BMI Index:\"))\n",
        "if(BMI_Idx<18):\n",
        "  print(\"Underweight\")\n",
        "elif(BMI_Idx>=18 and BMI_Idx<=24):\n",
        "  print(\"Normal Weight\")\n",
        "elif(BMI_Idx>=25 and BMI_Idx<=29):\n",
        "  print(\"Over Weight\")\n",
        "elif(BMI_Idx>=30 and BMI_Idx<=34):\n",
        "  print(\"Obesity Class I\")\n",
        "elif(BMI_Idx>=35 and BMI_Idx<=39):\n",
        "  print(\"Obesity Class II\")\n",
        "elif(BMI_Idx>=40):\n",
        "  print(\"Obesity Class III\")"
      ],
      "metadata": {
        "colab": {
          "base_uri": "https://localhost:8080/"
        },
        "id": "vfi4pkuLpYwD",
        "outputId": "1147d221-ec7e-406e-e674-8157ca1f40d6"
      },
      "execution_count": null,
      "outputs": [
        {
          "output_type": "stream",
          "name": "stdout",
          "text": [
            "Enter the BMI Index:34\n",
            "Obesity Class I\n"
          ]
        }
      ]
    }
  ]
}