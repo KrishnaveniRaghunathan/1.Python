{
  "nbformat": 4,
  "nbformat_minor": 0,
  "metadata": {
    "colab": {
      "provenance": []
    },
    "kernelspec": {
      "name": "python3",
      "display_name": "Python 3"
    },
    "language_info": {
      "name": "python"
    }
  },
  "cells": [
    {
      "cell_type": "code",
      "execution_count": 2,
      "metadata": {
        "id": "tvudUyfUoh-R"
      },
      "outputs": [],
      "source": [
        "#print CORRECT if i == 10"
      ]
    },
    {
      "cell_type": "code",
      "source": [
        "i = int(input(\"Enter the value for i:\"))\n",
        "print(\"Value: \",i)\n",
        "if(i==10):\n",
        "  print(\"CORRECT\")"
      ],
      "metadata": {
        "colab": {
          "base_uri": "https://localhost:8080/"
        },
        "id": "lrPUQ3aepJ5B",
        "outputId": "1ed865d9-b472-47f1-d3e6-f68e5b47de8b"
      },
      "execution_count": 8,
      "outputs": [
        {
          "output_type": "stream",
          "name": "stdout",
          "text": [
            "Enter the value for i:10\n",
            "Value:  10\n",
            "CORRECT\n"
          ]
        }
      ]
    },
    {
      "cell_type": "code",
      "source": [
        "#Check the password, using if and else"
      ],
      "metadata": {
        "id": "xwDnPQsopgCs"
      },
      "execution_count": null,
      "outputs": []
    },
    {
      "cell_type": "code",
      "source": [
        "pwd = input(\"Enter the password: \")\n",
        "if(pwd == 'HOPE@123'):\n",
        "  print(\"Your password is correct\")\n",
        "else:\n",
        "  print(\"Your password is incorrect\")"
      ],
      "metadata": {
        "colab": {
          "base_uri": "https://localhost:8080/"
        },
        "id": "MGu8NLn4pkua",
        "outputId": "13775a9b-459c-40b6-cbec-4f6401b3e7ad"
      },
      "execution_count": 6,
      "outputs": [
        {
          "output_type": "stream",
          "name": "stdout",
          "text": [
            "Enter the password: HOPE@123\n",
            "Your password is correct\n"
          ]
        }
      ]
    },
    {
      "cell_type": "code",
      "source": [
        "#Category the people by their age like children, adult, citizen, senior citizen"
      ],
      "metadata": {
        "id": "JT9hjnJ2qZz8"
      },
      "execution_count": 9,
      "outputs": []
    },
    {
      "cell_type": "code",
      "source": [
        "age = int(input(\"Enter the age: \"))\n",
        "print(\"age: \",age)\n",
        "if (age < 18):\n",
        "  print(\"Children\")\n",
        "elif(age>=18 and age<40):\n",
        "  print(\"Adult\")\n",
        "elif(age>=40 and age<60):\n",
        "  print(\"Citizen\")\n",
        "elif(age>=60):\n",
        "  print(\"Senior Citizen\")"
      ],
      "metadata": {
        "colab": {
          "base_uri": "https://localhost:8080/"
        },
        "id": "TojKxug3qliv",
        "outputId": "b9442669-4e0f-4b04-b98c-92ff21bb503d"
      },
      "execution_count": 15,
      "outputs": [
        {
          "output_type": "stream",
          "name": "stdout",
          "text": [
            "Enter the age: 20\n",
            "age:  20\n",
            "Adult\n"
          ]
        }
      ]
    },
    {
      "cell_type": "code",
      "source": [
        "#Find whether the given number is positive or negative"
      ],
      "metadata": {
        "id": "xWE9s895s4RE"
      },
      "execution_count": null,
      "outputs": []
    },
    {
      "cell_type": "code",
      "source": [
        "num = float(input(\"Enter any number: \"))\n",
        "print(\"No: \",num)\n",
        "if(num > 0):\n",
        "  print(\"No is Positive\")\n",
        "elif(num == 0):\n",
        "  print(\"No is Zero\")\n",
        "else:\n",
        "  print(\"No is Negative\")\n",
        ""
      ],
      "metadata": {
        "colab": {
          "base_uri": "https://localhost:8080/"
        },
        "id": "9ayEgfCTs-x7",
        "outputId": "62b865be-851b-4959-8f89-c53047c67ab7"
      },
      "execution_count": 21,
      "outputs": [
        {
          "output_type": "stream",
          "name": "stdout",
          "text": [
            "Enter any number: 1\n",
            "No:  1.0\n",
            "No is Positive\n"
          ]
        }
      ]
    },
    {
      "cell_type": "code",
      "source": [
        "#Check whether the given number is divisible by 5"
      ],
      "metadata": {
        "id": "_V3IQCV4tr8Y"
      },
      "execution_count": null,
      "outputs": []
    },
    {
      "cell_type": "code",
      "source": [
        "d_num = int(input(\"Enter a number to check: \"))\n",
        "print(\"Number is \",d_num)\n",
        "if(d_num%5==0):\n",
        "  print(d_num, \": No is divisible by 5\")\n",
        "else:\n",
        "  print(d_num, \": No is not divisible by 5\")\n",
        "\n"
      ],
      "metadata": {
        "colab": {
          "base_uri": "https://localhost:8080/"
        },
        "id": "bFpLmOAdtwq_",
        "outputId": "7edf42a2-aa3c-4bcb-ff31-2bd61adba2d3"
      },
      "execution_count": 24,
      "outputs": [
        {
          "output_type": "stream",
          "name": "stdout",
          "text": [
            "Enter a number to check: 22\n",
            "Number is  22\n",
            "22 : No is not divisible by 5\n"
          ]
        }
      ]
    }
  ]
}