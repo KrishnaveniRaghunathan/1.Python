{
  "nbformat": 4,
  "nbformat_minor": 0,
  "metadata": {
    "colab": {
      "provenance": []
    },
    "kernelspec": {
      "name": "python3",
      "display_name": "Python 3"
    },
    "language_info": {
      "name": "python"
    }
  },
  "cells": [
    {
      "cell_type": "code",
      "execution_count": null,
      "metadata": {
        "id": "Vf8Hzr2G3faU"
      },
      "outputs": [],
      "source": [
        "#print 0 to 20 by using range"
      ]
    },
    {
      "cell_type": "code",
      "source": [
        "for i in range(0,20):\n",
        "  print(i)"
      ],
      "metadata": {
        "colab": {
          "base_uri": "https://localhost:8080/"
        },
        "id": "zo_MXaNS3rZL",
        "outputId": "59bb09c4-6688-42b7-915b-156f45b23aa1"
      },
      "execution_count": null,
      "outputs": [
        {
          "output_type": "stream",
          "name": "stdout",
          "text": [
            "0\n",
            "1\n",
            "2\n",
            "3\n",
            "4\n",
            "5\n",
            "6\n",
            "7\n",
            "8\n",
            "9\n",
            "10\n",
            "11\n",
            "12\n",
            "13\n",
            "14\n",
            "15\n",
            "16\n",
            "17\n",
            "18\n",
            "19\n"
          ]
        }
      ]
    },
    {
      "cell_type": "code",
      "source": [
        "#print range 10 to 20"
      ],
      "metadata": {
        "id": "ivSSQ7v5587w"
      },
      "execution_count": null,
      "outputs": []
    },
    {
      "cell_type": "code",
      "source": [
        "for i in range(10,20):\n",
        "  print(i,end=\" \")"
      ],
      "metadata": {
        "colab": {
          "base_uri": "https://localhost:8080/"
        },
        "id": "5gBXUNlB6Anu",
        "outputId": "d2354d7b-e201-4253-f557-0f1eb35bc525"
      },
      "execution_count": null,
      "outputs": [
        {
          "output_type": "stream",
          "name": "stdout",
          "text": [
            "10 11 12 13 14 15 16 17 18 19 "
          ]
        }
      ]
    },
    {
      "cell_type": "code",
      "source": [
        "#print the no of items in the list by using 'len'"
      ],
      "metadata": {
        "id": "AEJ9X73I6cxw"
      },
      "execution_count": null,
      "outputs": []
    },
    {
      "cell_type": "code",
      "source": [
        "List = [10,20,14,55,43,87,76] #Name = 'Krishnaveni'\n",
        "List_Len = len(List)\n",
        "print(\"Number of items in the List:\")\n",
        "print(List_Len)"
      ],
      "metadata": {
        "colab": {
          "base_uri": "https://localhost:8080/"
        },
        "id": "hqpKT7bg6r6e",
        "outputId": "d73e9dc3-b980-4c9f-a297-2c623184b5b3"
      },
      "execution_count": null,
      "outputs": [
        {
          "output_type": "stream",
          "name": "stdout",
          "text": [
            "Number of items in the List:\n",
            "7\n"
          ]
        }
      ]
    },
    {
      "cell_type": "code",
      "source": [
        "#Print a String Vertically"
      ],
      "metadata": {
        "id": "hhUcwR4b7mYh"
      },
      "execution_count": null,
      "outputs": []
    },
    {
      "cell_type": "code",
      "source": [
        "Course_Name = 'Artificial Intelligence'\n",
        "print(Course_Name)\n",
        "for i in Course_Name:\n",
        "  print(i)\n"
      ],
      "metadata": {
        "colab": {
          "base_uri": "https://localhost:8080/"
        },
        "id": "hr4LcCOC7siC",
        "outputId": "5f8845fb-b270-493f-9276-075d9da28ecd"
      },
      "execution_count": null,
      "outputs": [
        {
          "output_type": "stream",
          "name": "stdout",
          "text": [
            "Artificial Intelligence\n",
            "A\n",
            "r\n",
            "t\n",
            "i\n",
            "f\n",
            "i\n",
            "c\n",
            "i\n",
            "a\n",
            "l\n",
            " \n",
            "I\n",
            "n\n",
            "t\n",
            "e\n",
            "l\n",
            "l\n",
            "i\n",
            "g\n",
            "e\n",
            "n\n",
            "c\n",
            "e\n"
          ]
        }
      ]
    },
    {
      "cell_type": "code",
      "source": [
        "#Print Name, Age, and Profession"
      ],
      "metadata": {
        "id": "QyjtHqgQ8OY4"
      },
      "execution_count": null,
      "outputs": []
    },
    {
      "cell_type": "code",
      "source": [
        "Y_Name = input(\"Enter Your Name: \")\n",
        "Y_Age = int(input(\"Enter Your Age: \"))\n",
        "Y_Profession = input(\"Enter Your Profession: \")\n",
        "print()\n",
        "print(\"-Your Name- \",Y_Name)\n",
        "print(\"-Your Age- \",Y_Age)\n",
        "print(\"-Your Profession- \",Y_Profession)"
      ],
      "metadata": {
        "colab": {
          "base_uri": "https://localhost:8080/"
        },
        "id": "Ph0gfyCo8TVZ",
        "outputId": "992bb054-3ba8-4697-c9a1-779813bda1eb"
      },
      "execution_count": null,
      "outputs": [
        {
          "output_type": "stream",
          "name": "stdout",
          "text": [
            "Enter Your Name: Krishnaveni\n",
            "Enter Your Age: 36\n",
            "Enter Your Profession: MCA\n",
            "\n",
            "-Your Name-  Krishnaveni\n",
            "-Your Age-  36\n",
            "-Your Profession-  MCA\n"
          ]
        }
      ]
    },
    {
      "cell_type": "code",
      "source": [
        "#Print the Mixed Data Type Tuple"
      ],
      "metadata": {
        "id": "I5Bx9tOp98D2"
      },
      "execution_count": null,
      "outputs": []
    },
    {
      "cell_type": "code",
      "source": [
        "Tuple1 = (1,'Welcome',2,'Hope')\n",
        "print(\"Printing the Mixed Data Type Using Tuple\")\n",
        "print(Tuple1)\n",
        "#List2 = [1,'Welcome',2,'Hope']\n",
        "#print(List2)"
      ],
      "metadata": {
        "colab": {
          "base_uri": "https://localhost:8080/"
        },
        "id": "rxT8IKLx-DQI",
        "outputId": "8328f93d-3b79-4d29-f60d-ef39562107b1"
      },
      "execution_count": null,
      "outputs": [
        {
          "output_type": "stream",
          "name": "stdout",
          "text": [
            "Printing the Mixed Data Type Using Tuple\n",
            "(1, 'Welcome', 2, 'Hope')\n"
          ]
        }
      ]
    },
    {
      "cell_type": "code",
      "source": [
        "#Print the Multiple Tuples using Single Tuple"
      ],
      "metadata": {
        "id": "TXzD9kuB-zgu"
      },
      "execution_count": null,
      "outputs": []
    },
    {
      "cell_type": "code",
      "source": [
        "Tuple1 = (0,1,2,3)\n",
        "Tuple2 = ('python',\"HOPE\")\n",
        "Tuple3 = (Tuple1,Tuple2)\n",
        "print(\"Printing the Multiple Tuples using Single Tuple\")\n",
        "print(Tuple3)\n",
        "#Listl1 = [0,1,2,3]\n",
        "#Listl2 = ['python',\"HOPE\"]\n",
        "#Listl3 = [Listl1,Listl2]\n",
        "#print(\"Printing the Multiple Lists using Single List\")\n",
        "#print(Listl3)"
      ],
      "metadata": {
        "colab": {
          "base_uri": "https://localhost:8080/"
        },
        "id": "ergb27X3-6FE",
        "outputId": "3cd8cc60-faa9-41ae-f4e3-232010f46e76"
      },
      "execution_count": null,
      "outputs": [
        {
          "output_type": "stream",
          "name": "stdout",
          "text": [
            "Printing the Multiple Tuples using Single Tuple\n",
            "((0, 1, 2, 3), ('python', 'HOPE'))\n"
          ]
        }
      ]
    },
    {
      "cell_type": "code",
      "source": [
        "#print ODD numbers in the List"
      ],
      "metadata": {
        "id": "EOTdIvzG_zQv"
      },
      "execution_count": null,
      "outputs": []
    },
    {
      "cell_type": "code",
      "source": [
        "O_List = [20,10,16,19,25,1,276,188]\n",
        "for i in O_List:\n",
        "  if(i%2==1):\n",
        "    print(i,\"is Odd Number\")\n"
      ],
      "metadata": {
        "colab": {
          "base_uri": "https://localhost:8080/"
        },
        "id": "oVEXQb9G_5Ya",
        "outputId": "7405082a-e2f5-4808-cec5-064ccca21cbb"
      },
      "execution_count": null,
      "outputs": [
        {
          "output_type": "stream",
          "name": "stdout",
          "text": [
            "19 is Odd Number\n",
            "25 is Odd Number\n",
            "1 is Odd Number\n"
          ]
        }
      ]
    },
    {
      "cell_type": "code",
      "source": [
        "#print EVEN number in the List"
      ],
      "metadata": {
        "id": "Q2JvnBd-Agf7"
      },
      "execution_count": null,
      "outputs": []
    },
    {
      "cell_type": "code",
      "source": [
        "E_List = [20,10,16,19,25,1,276,188]\n",
        "for i in E_List:\n",
        "  if(i%2==0):\n",
        "    print(i,\"is Even Number\")"
      ],
      "metadata": {
        "colab": {
          "base_uri": "https://localhost:8080/"
        },
        "id": "Lktp4J0OAko7",
        "outputId": "4707478c-218d-4d61-a312-cf89143aa2e9"
      },
      "execution_count": null,
      "outputs": [
        {
          "output_type": "stream",
          "name": "stdout",
          "text": [
            "20 is Even Number\n",
            "10 is Even Number\n",
            "16 is Even Number\n",
            "276 is Even Number\n",
            "188 is Even Number\n"
          ]
        }
      ]
    },
    {
      "cell_type": "code",
      "source": [],
      "metadata": {
        "id": "SSybdn6vArEA"
      },
      "execution_count": null,
      "outputs": []
    }
  ]
}