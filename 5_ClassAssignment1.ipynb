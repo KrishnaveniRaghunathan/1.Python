{
  "nbformat": 4,
  "nbformat_minor": 0,
  "metadata": {
    "colab": {
      "provenance": []
    },
    "kernelspec": {
      "name": "python3",
      "display_name": "Python 3"
    },
    "language_info": {
      "name": "python"
    }
  },
  "cells": [
    {
      "cell_type": "code",
      "execution_count": null,
      "metadata": {
        "id": "b9iA0IOy5aPB"
      },
      "outputs": [],
      "source": [
        "# Create a class and function, and list out the items in the list"
      ]
    },
    {
      "cell_type": "code",
      "source": [
        "class subfieldsInAI:\n",
        "  def Subfields():\n",
        "    AI_Sub_Fields = \"\"\"Sub-fields in AI are:\n",
        "    Machine Learning\n",
        "    Neural Networks\n",
        "    Vision\n",
        "    Robotics\n",
        "    Speech Processing\n",
        "    Natural Language Processing\"\"\"\n",
        "    print(AI_Sub_Fields)\n",
        "    #return AI_Sub_Fields"
      ],
      "metadata": {
        "id": "n9tx4Tjf5zA8"
      },
      "execution_count": 5,
      "outputs": []
    },
    {
      "cell_type": "code",
      "source": [
        "subfieldsInAI.Subfields()"
      ],
      "metadata": {
        "colab": {
          "base_uri": "https://localhost:8080/"
        },
        "id": "6mv1RJXV6WkO",
        "outputId": "7828ce37-6363-45d5-c2ac-0dc996ea01e1"
      },
      "execution_count": 6,
      "outputs": [
        {
          "output_type": "stream",
          "name": "stdout",
          "text": [
            "Sub-fields in AI are:\n",
            "    Machine Learning\n",
            "    Neural Networks\n",
            "    Vision\n",
            "    Robotics\n",
            "    Speech Processing\n",
            "    Natural Language Processing\n"
          ]
        }
      ]
    },
    {
      "cell_type": "code",
      "source": [
        "# Create a function that checks whether the given number is Odd or Even"
      ],
      "metadata": {
        "id": "mxNP-GdZ6qiY"
      },
      "execution_count": null,
      "outputs": []
    },
    {
      "cell_type": "code",
      "source": [
        "class OddEven:\n",
        "  def oddEven():\n",
        "    num = int(input(\"Enter a number: \"))\n",
        "    if(num%2==0):\n",
        "      prn = \"%d is Even Number\" % (num)\n",
        "    else:\n",
        "      prn = \"%d is Odd Number\" % (num)\n",
        "    return prn"
      ],
      "metadata": {
        "id": "N-sCddVU63MC"
      },
      "execution_count": 7,
      "outputs": []
    },
    {
      "cell_type": "code",
      "source": [
        "OddEven.oddEven()"
      ],
      "metadata": {
        "colab": {
          "base_uri": "https://localhost:8080/",
          "height": 53
        },
        "id": "bMfopNEI7I45",
        "outputId": "dbf51ad7-0e15-4f9a-9c23-9f679806085b"
      },
      "execution_count": 9,
      "outputs": [
        {
          "name": "stdout",
          "output_type": "stream",
          "text": [
            "Enter a number: 52452\n"
          ]
        },
        {
          "output_type": "execute_result",
          "data": {
            "text/plain": [
              "'52452 is Even Number'"
            ],
            "application/vnd.google.colaboratory.intrinsic+json": {
              "type": "string"
            }
          },
          "metadata": {},
          "execution_count": 9
        }
      ]
    },
    {
      "cell_type": "code",
      "source": [
        "# Create a function that tells elegibility of marriage for male and female according to their age limit like 21 for male and 18 for female"
      ],
      "metadata": {
        "id": "2iMSk8nR7ihy"
      },
      "execution_count": null,
      "outputs": []
    },
    {
      "cell_type": "code",
      "source": [
        "class ElegiblityForMarriage:\n",
        "  def Elegible():\n",
        "    Gen = input(\"Enter Your Gender: \")\n",
        "    Age = int(input(\"Enter Your Age: \"))\n",
        "    print(\"Your Gender: \",Gen)\n",
        "    print(\"Your Age: \",Age)\n",
        "    if(Gen.upper()=='MALE'):\n",
        "      if(Age>=26):\n",
        "        print(\"ELIGIBLE FOR MARRIAGE\")\n",
        "      else:\n",
        "        print(\"NOT ELIGIBLE FOR MARRIAGE\")\n",
        "    elif(Gen.upper()=='FEMALE'):\n",
        "      if(Age>=21):\n",
        "        print(\"ELIGIBLE FOR MARRIAGE\")\n",
        "      else:\n",
        "        print(\"NOT ELIGIBLE FOR MARRIAGE\")\n",
        "    else:\n",
        "      print(\"Enter Either Male or Female\")\n",
        "    #return 1"
      ],
      "metadata": {
        "id": "pnnLrk3V7o2f"
      },
      "execution_count": 10,
      "outputs": []
    },
    {
      "cell_type": "code",
      "source": [
        "ElegiblityForMarriage.Elegible()"
      ],
      "metadata": {
        "colab": {
          "base_uri": "https://localhost:8080/"
        },
        "id": "K2ccnDq470Zm",
        "outputId": "f3c66a88-0a0c-4ed9-fd78-150c82654441"
      },
      "execution_count": 12,
      "outputs": [
        {
          "output_type": "stream",
          "name": "stdout",
          "text": [
            "Enter Your Gender: MALE\n",
            "Enter Your Age: 20\n",
            "Your Gender:  MALE\n",
            "Your Age:  20\n",
            "NOT ELIGIBLE FOR MARRIAGE\n"
          ]
        }
      ]
    },
    {
      "cell_type": "code",
      "source": [
        "# calculate the percentage of your 10th mark"
      ],
      "metadata": {
        "id": "DAy6tH9O8LQI"
      },
      "execution_count": null,
      "outputs": []
    },
    {
      "cell_type": "code",
      "source": [
        "class FindPercent():\n",
        "  def percentage():\n",
        "    S1 = int(input(\"Please Enter Subject1 Mark: \"))\n",
        "    S2 = int(input(\"Please Enter Subject2 Mark: \"))\n",
        "    S3 = int(input(\"Please Enter Subject3 Mark: \"))\n",
        "    S4 = int(input(\"Please Enter Subject4 Mark: \"))\n",
        "    S5 = int(input(\"Please Enter Subject5 Mark: \"))\n",
        "    tot = S1+S2+S3+S4+S5\n",
        "    per = (S1+S2+S3+S4+S5)/5\n",
        "    #perd = print('%.2f' % a) print(\"{0:.3f}\".format(a))\n",
        "    print(\"Subject1   = \",S1)\n",
        "    print(\"Subject2   = \",S2)\n",
        "    print(\"Subject3   = \",S3)\n",
        "    print(\"Subject4   = \",S4)\n",
        "    print(\"Subject5   = \",S5)\n",
        "    print(\"Total      = \",tot)\n",
        "    print(\"Percentage = \",'%.15f'%per)"
      ],
      "metadata": {
        "id": "3M4YLVkS8O59"
      },
      "execution_count": 13,
      "outputs": []
    },
    {
      "cell_type": "code",
      "source": [
        "FindPercent.percentage()"
      ],
      "metadata": {
        "colab": {
          "base_uri": "https://localhost:8080/"
        },
        "id": "KhG6k3T68i-X",
        "outputId": "fe19ccf0-de5c-423e-8730-5cd7b15e3977"
      },
      "execution_count": 16,
      "outputs": [
        {
          "output_type": "stream",
          "name": "stdout",
          "text": [
            "Please Enter Subject1 Mark: 98\n",
            "Please Enter Subject2 Mark: 87\n",
            "Please Enter Subject3 Mark: 95\n",
            "Please Enter Subject4 Mark: 95\n",
            "Please Enter Subject5 Mark: 93\n",
            "Subject1   =  98\n",
            "Subject2   =  87\n",
            "Subject3   =  95\n",
            "Subject4   =  95\n",
            "Subject5   =  93\n",
            "Total      =  468\n",
            "Percentage =  93.599999999999994\n"
          ]
        }
      ]
    },
    {
      "cell_type": "code",
      "source": [
        "#print area and perimeter of triangle using class and functions"
      ],
      "metadata": {
        "id": "A6bS7PuO865Z"
      },
      "execution_count": null,
      "outputs": []
    },
    {
      "cell_type": "code",
      "source": [
        "class triangle:\n",
        "  def triangle():\n",
        "    Height = int(input(\"Enter Height Value: \"))\n",
        "    Breadth = int(input(\"Enter Breadth Value: \"))\n",
        "    AreaFormula = \"Area Formula : (Height*Breadth)/2\"\n",
        "    print(\"Height : \",Height)\n",
        "    print(\"Breadth : \",Breadth)\n",
        "    print(AreaFormula)\n",
        "    print(\"Area of Triangle: \",(Height*Breadth)/2)\n",
        "    Height1 = int(input(\"Enter Height1 Value: \"))\n",
        "    Height2 = int(input(\"Enter Height2 Value: \"))\n",
        "    Breadth = int(input(\"Enter Breadth Value: \"))\n",
        "    print(\"Perimeter Formula : Height1 + Height2 + Breadth\")\n",
        "    TPerimeter = Height1 + Height2 + Breadth\n",
        "    print(\"Perimeter of Triangle: \",TPerimeter)"
      ],
      "metadata": {
        "id": "g73MM-Lx9EMu"
      },
      "execution_count": 17,
      "outputs": []
    },
    {
      "cell_type": "code",
      "source": [
        "triangle.triangle()"
      ],
      "metadata": {
        "colab": {
          "base_uri": "https://localhost:8080/"
        },
        "id": "nxORSs3A9ONA",
        "outputId": "ccff88d1-005b-4fb9-8b3c-70c9b7baa75b"
      },
      "execution_count": 18,
      "outputs": [
        {
          "output_type": "stream",
          "name": "stdout",
          "text": [
            "Enter Height Value: 32\n",
            "Enter Breadth Value: 34\n",
            "Height :  32\n",
            "Breadth :  34\n",
            "Area Formula : (Height*Breadth)/2\n",
            "Area of Triangle:  544.0\n",
            "Enter Height1 Value: 2\n",
            "Enter Height2 Value: 4\n",
            "Enter Breadth Value: 4\n",
            "Perimeter Formula : Height1 + Height2 + Breadth\n",
            "Perimeter of Triangle:  10\n"
          ]
        }
      ]
    }
  ]
}