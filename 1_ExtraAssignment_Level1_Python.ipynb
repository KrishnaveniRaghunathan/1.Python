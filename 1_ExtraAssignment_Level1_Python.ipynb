{
  "nbformat": 4,
  "nbformat_minor": 0,
  "metadata": {
    "colab": {
      "provenance": []
    },
    "kernelspec": {
      "name": "python3",
      "display_name": "Python 3"
    },
    "language_info": {
      "name": "python"
    }
  },
  "cells": [
    {
      "cell_type": "code",
      "execution_count": null,
      "metadata": {
        "id": "kFBiooXjwb0B"
      },
      "outputs": [],
      "source": [
        "#print statement"
      ]
    },
    {
      "cell_type": "code",
      "source": [
        "print(\"HOPE AI\")"
      ],
      "metadata": {
        "colab": {
          "base_uri": "https://localhost:8080/"
        },
        "id": "42K5V8oVwq_x",
        "outputId": "8131d2af-ba2d-4000-dafb-c6950a1ccd6a"
      },
      "execution_count": null,
      "outputs": [
        {
          "output_type": "stream",
          "name": "stdout",
          "text": [
            "HOPE AI\n"
          ]
        }
      ]
    },
    {
      "cell_type": "code",
      "source": [
        "#Buy Input"
      ],
      "metadata": {
        "id": "19xcceWuw2YH"
      },
      "execution_count": null,
      "outputs": []
    },
    {
      "cell_type": "code",
      "source": [
        "Ins_Name = input(\"Enter Your Institure Name?:\")\n",
        "print(\"Enter Your Institure Name?:\",Ins_Name)"
      ],
      "metadata": {
        "colab": {
          "base_uri": "https://localhost:8080/"
        },
        "id": "uME5kN-Ew5dQ",
        "outputId": "c7f9ad92-a99c-4841-89fb-e22ccd276871"
      },
      "execution_count": null,
      "outputs": [
        {
          "output_type": "stream",
          "name": "stdout",
          "text": [
            "Enter Your Institure Name?:HOPE AI\n",
            "Enter Your Institure Name?: HOPE AI\n"
          ]
        }
      ]
    },
    {
      "cell_type": "code",
      "source": [
        "#Buy Inputs"
      ],
      "metadata": {
        "id": "vWGPRJZXxcS1"
      },
      "execution_count": null,
      "outputs": []
    },
    {
      "cell_type": "code",
      "source": [
        "Name = input(\"Enter Your Name:\")\n",
        "Age = int(input(\"Enter Your Age:\"))\n",
        "S_Name = input(\"Enter Your School Name:\")\n",
        "Degree = input(\"Enter Your Degree:\")\n",
        "print()\n",
        "print()\n",
        "print(\"Enter Your Name:\",Name)\n",
        "print(\"Enter Your Age:\",Age)\n",
        "print(\"Enter Your School Name:\",S_Name)\n",
        "print(\"Enter Your Degree:\",Degree)"
      ],
      "metadata": {
        "colab": {
          "base_uri": "https://localhost:8080/"
        },
        "id": "i_xDS5Eexc5C",
        "outputId": "a21e7aad-1a5b-4167-8cba-91303f91ac2b"
      },
      "execution_count": null,
      "outputs": [
        {
          "output_type": "stream",
          "name": "stdout",
          "text": [
            "Enter Your Name:Krishnaveni\n",
            "Enter Your Age:36\n",
            "Enter Your School Name:KRHS School\n",
            "Enter Your Degree:MCA\n",
            "\n",
            "\n",
            "Enter Your Name: Krishnaveni\n",
            "Enter Your Age: 36\n",
            "Enter Your School Name: KRHS School\n",
            "Enter Your Degree: MCA\n"
          ]
        }
      ]
    },
    {
      "cell_type": "code",
      "source": [
        "#Addition"
      ],
      "metadata": {
        "id": "AY_taK_czPJn"
      },
      "execution_count": null,
      "outputs": []
    },
    {
      "cell_type": "code",
      "source": [
        "a = 43\n",
        "b = 34\n",
        "print(\"a =\",a)\n",
        "print(\"b =\",b)\n",
        "print(\"add =\",a+b)"
      ],
      "metadata": {
        "colab": {
          "base_uri": "https://localhost:8080/"
        },
        "id": "s6IU5-0izSJr",
        "outputId": "9bd89174-ab72-452c-f65b-0e201c67f0a6"
      },
      "execution_count": null,
      "outputs": [
        {
          "output_type": "stream",
          "name": "stdout",
          "text": [
            "a = 43\n",
            "b = 34\n",
            "add = 77\n"
          ]
        }
      ]
    },
    {
      "cell_type": "code",
      "source": [
        "#Subtraction"
      ],
      "metadata": {
        "id": "l3_lb-pez48v"
      },
      "execution_count": null,
      "outputs": []
    },
    {
      "cell_type": "code",
      "source": [
        "a = 43\n",
        "b = 34\n",
        "print(\"a =\",a)\n",
        "print(\"b =\",b)\n",
        "print(\"Sub =\",a-b)"
      ],
      "metadata": {
        "colab": {
          "base_uri": "https://localhost:8080/"
        },
        "id": "7hNcIeArz7TQ",
        "outputId": "3ea08e53-17ab-425f-835b-f9dc545f3370"
      },
      "execution_count": null,
      "outputs": [
        {
          "output_type": "stream",
          "name": "stdout",
          "text": [
            "a = 43\n",
            "b = 34\n",
            "Sub = 9\n"
          ]
        }
      ]
    },
    {
      "cell_type": "code",
      "source": [
        "#Multiplication"
      ],
      "metadata": {
        "id": "jun5vMko0Gca"
      },
      "execution_count": null,
      "outputs": []
    },
    {
      "cell_type": "code",
      "source": [
        "a = 63\n",
        "b = 97\n",
        "print(\"a =\",a)\n",
        "print(\"b =\",b)\n",
        "print(\"Mul =\",a*b)"
      ],
      "metadata": {
        "colab": {
          "base_uri": "https://localhost:8080/"
        },
        "id": "gJ5SkqhE0IsJ",
        "outputId": "b4709748-000f-4b7a-826d-b33dea254868"
      },
      "execution_count": null,
      "outputs": [
        {
          "output_type": "stream",
          "name": "stdout",
          "text": [
            "a = 63\n",
            "b = 97\n",
            "Mul = 6111\n"
          ]
        }
      ]
    },
    {
      "cell_type": "code",
      "source": [
        "#Division"
      ],
      "metadata": {
        "id": "oSY83opg0YVm"
      },
      "execution_count": null,
      "outputs": []
    },
    {
      "cell_type": "code",
      "source": [
        "a = 76\n",
        "b = 31\n",
        "print(\"a =\",a)\n",
        "print(\"b =\",b)\n",
        "print(\"Float Div =\",a/b)"
      ],
      "metadata": {
        "colab": {
          "base_uri": "https://localhost:8080/"
        },
        "id": "W1yPbZG10bnB",
        "outputId": "78402adb-d8ce-40a9-9acf-7cffaed3a200"
      },
      "execution_count": null,
      "outputs": [
        {
          "output_type": "stream",
          "name": "stdout",
          "text": [
            "a = 76\n",
            "b = 31\n",
            "Float Div = 2.4516129032258065\n"
          ]
        }
      ]
    },
    {
      "cell_type": "code",
      "source": [
        "#Floor Division"
      ],
      "metadata": {
        "id": "_ZNnzjWx0r5Q"
      },
      "execution_count": null,
      "outputs": []
    },
    {
      "cell_type": "code",
      "source": [
        "a = 76\n",
        "b = 31\n",
        "print(\"a =\",a)\n",
        "print(\"b =\",b)\n",
        "print(\"Floor Div =\",a//b)"
      ],
      "metadata": {
        "colab": {
          "base_uri": "https://localhost:8080/"
        },
        "id": "X_ktiCDa0tst",
        "outputId": "99722d7b-88bd-49f0-b741-da36d2231497"
      },
      "execution_count": null,
      "outputs": [
        {
          "output_type": "stream",
          "name": "stdout",
          "text": [
            "a = 76\n",
            "b = 31\n",
            "Floor Div = 2\n"
          ]
        }
      ]
    },
    {
      "cell_type": "code",
      "source": [
        "#Modulo"
      ],
      "metadata": {
        "id": "mTIu6Kdn1hLt"
      },
      "execution_count": null,
      "outputs": []
    },
    {
      "cell_type": "code",
      "source": [
        "a = 76\n",
        "b = 31\n",
        "print(\"a =\",a)\n",
        "print(\"b =\",b)\n",
        "print(\"Modulo =\",a%b)"
      ],
      "metadata": {
        "colab": {
          "base_uri": "https://localhost:8080/"
        },
        "id": "my9ogFvk1j5t",
        "outputId": "f2e031aa-d266-4771-e147-650f5a22d5a7"
      },
      "execution_count": null,
      "outputs": [
        {
          "output_type": "stream",
          "name": "stdout",
          "text": [
            "a = 76\n",
            "b = 31\n",
            "Modulo = 14\n"
          ]
        }
      ]
    },
    {
      "cell_type": "code",
      "source": [
        "#power"
      ],
      "metadata": {
        "id": "aCetk9ir1uTX"
      },
      "execution_count": null,
      "outputs": []
    },
    {
      "cell_type": "code",
      "source": [
        "a = 4\n",
        "b = 4\n",
        "print(\"a =\",a)\n",
        "print(\"b =\",b)\n",
        "print(\"Power =\",pow(a,b))"
      ],
      "metadata": {
        "colab": {
          "base_uri": "https://localhost:8080/"
        },
        "id": "I7vdazLj1wmr",
        "outputId": "d7768054-8940-48ef-8999-d5477838978c"
      },
      "execution_count": null,
      "outputs": [
        {
          "output_type": "stream",
          "name": "stdout",
          "text": [
            "a = 4\n",
            "b = 4\n",
            "Power = 256\n"
          ]
        }
      ]
    }
  ]
}